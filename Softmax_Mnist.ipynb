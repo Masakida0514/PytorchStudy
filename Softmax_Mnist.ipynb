{
  "nbformat": 4,
  "nbformat_minor": 0,
  "metadata": {
    "accelerator": "GPU",
    "colab": {
      "name": "chap03_exercise.ipynb のコピー",
      "provenance": [],
      "collapsed_sections": [],
      "include_colab_link": true
    },
    "kernelspec": {
      "display_name": "Python 3",
      "language": "python",
      "name": "python3"
    },
    "language_info": {
      "codemirror_mode": {
        "name": "ipython",
        "version": 3
      },
      "file_extension": ".py",
      "mimetype": "text/x-python",
      "name": "python",
      "nbconvert_exporter": "python",
      "pygments_lexer": "ipython3",
      "version": "3.6.8"
    }
  },
  "cells": [
    {
      "cell_type": "markdown",
      "metadata": {
        "id": "view-in-github",
        "colab_type": "text"
      },
      "source": [
        "<a href=\"https://colab.research.google.com/github/Masakida0514/PytorchStudy/blob/main/Softmax_Mnist.ipynb\" target=\"_parent\"><img src=\"https://colab.research.google.com/assets/colab-badge.svg\" alt=\"Open In Colab\"/></a>"
      ]
    },
    {
      "cell_type": "markdown",
      "metadata": {
        "id": "XuR-Q0Bw4Kqu"
      },
      "source": [
        "# MNIST Softmax回帰"
      ]
    },
    {
      "cell_type": "code",
      "metadata": {
        "id": "6AKBw3Tr4Kqx"
      },
      "source": [
        "from sklearn.utils import shuffle\n",
        "from sklearn.metrics import accuracy_score\n",
        "from sklearn.model_selection import train_test_split\n",
        "from keras.datasets import mnist\n",
        "\n",
        "import numpy as np\n",
        "\n",
        "np.random.seed(514)"
      ],
      "execution_count": 1,
      "outputs": []
    },
    {
      "cell_type": "markdown",
      "metadata": {
        "id": "quBPRwBf4Kq7"
      },
      "source": [
        "## ロジスティック回帰"
      ]
    },
    {
      "cell_type": "markdown",
      "metadata": {
        "id": "awSlFgRA4Kq9"
      },
      "source": [
        "### 1. Sigmoid\n",
        "$$\n",
        "    \\sigma({\\bf x}) = \\frac{1}{1 + \\exp(-{\\bf x})} = \\frac{\\exp({\\bf x})}{1 + \\exp({\\bf x})}\n",
        "$$"
      ]
    },
    {
      "cell_type": "code",
      "metadata": {
        "id": "SxGov-BfwsiS"
      },
      "source": [
        "def sigmoid(x):\n",
        "    # 単純な実装\n",
        "    # return 1 / (1 + np.exp(-x))\n",
        "    # expのoverflow対策\n",
        "    # x >=0 のとき sigmoid(x) = 1 / (1 + exp(-x))\n",
        "    # x < 0 のとき sigmoid(x) = exp(x) / (1 + exp(x))\n",
        "    return np.exp(np.minimum(x, 0)) / (1 + np.exp(- np.abs(x)))"
      ],
      "execution_count": 2,
      "outputs": []
    },
    {
      "cell_type": "markdown",
      "metadata": {
        "id": "mGygQ2Md4KrM"
      },
      "source": [
        "### 2 目的関数（2クラス交差エントロピー誤差関数）\n",
        "\n",
        "$$ E ({\\bf x}, {\\bf y}; {\\bf W}, {\\bf b} ) =  -\\frac{1}{N}\\sum^N_{i=1} \\left[ {\\bf y}_i \\log {\\bf \\hat{y}}_i ({\\bf x}_i; {\\bf W}, {\\bf b}) + (1 - {\\bf y}_i) \\log \\{ 1 - {\\bf \\hat{y}}_i ({\\bf x}_i; {\\bf W}, {\\bf b}) \\}\\right] $$"
      ]
    },
    {
      "cell_type": "markdown",
      "metadata": {
        "id": "oNruNkKG4KrN"
      },
      "source": [
        "#### 2.1 モデルの推論\n",
        "$$\n",
        "    {\\bf \\hat{y}}_i = \\sigma({\\bf W} {\\bf x}_i + {\\bf b})\n",
        "$$"
      ]
    },
    {
      "cell_type": "markdown",
      "metadata": {
        "id": "UWW0Bsia4KrP"
      },
      "source": [
        "#### 2.2 モデルの学習\n",
        "\\begin{align*}\n",
        "    \\delta_i &= {\\bf \\hat{y}}_i - {\\bf y}_i \\\\\n",
        "    \\nabla_{\\bf W} E &= \\frac{1}{N}\\sum^N_{i=1}\\delta_i {\\bf x}^{\\mathrm{T}}_i \\\\\n",
        "    \\nabla_{\\bf b} E &= \\frac{1}{N}\\sum^N_{i=1}\\delta_i  \\\\\n",
        "    {\\bf W} &\\leftarrow {\\bf W} - \\epsilon \\nabla_{\\bf W} E \\\\\n",
        "    {\\bf b} &\\leftarrow {\\bf b} - \\epsilon \\nabla_{\\bf b} E \\\\\n",
        "\\end{align*}"
      ]
    },
    {
      "cell_type": "markdown",
      "metadata": {
        "id": "clYJtdhrDogX"
      },
      "source": [
        "※log関数の定義：log(0)は定義出来ない為、np.clipを用いて実装"
      ]
    },
    {
      "cell_type": "markdown",
      "metadata": {
        "id": "z0wQZg1jD7PO"
      },
      "source": [
        "clipping : 設定した最小値未満の場合は最小値に、最大値より上の場合最大値に変換すること"
      ]
    },
    {
      "cell_type": "code",
      "metadata": {
        "id": "U0NNuvbS4KrQ"
      },
      "source": [
        "def np_log(x):\n",
        "    return np.log(np.clip(a=x, a_min=1e-10, a_max=1e+10))"
      ],
      "execution_count": 3,
      "outputs": []
    },
    {
      "cell_type": "markdown",
      "metadata": {
        "id": "44tdPsW34Krq"
      },
      "source": [
        "## ソフトマックス回帰"
      ]
    },
    {
      "cell_type": "markdown",
      "metadata": {
        "id": "YEprLDMd4Krr"
      },
      "source": [
        "### 1. ソフトマックス関数\n",
        "$$\n",
        "    \\mathrm{softmax}({\\bf x})_k = \\frac{\\exp({\\bf x}_k)}{\\sum^K_{k'=1} \\exp({\\bf x}_{k'})} \\hspace{10mm} \\text{for} \\, k=1,\\ldots, K\n",
        "$$"
      ]
    },
    {
      "cell_type": "code",
      "metadata": {
        "id": "LJtPrgDX4Krs"
      },
      "source": [
        "def softmax(x):\n",
        "    x -= x.max(axis=1, keepdims=True)\n",
        "    x_exp = np.exp(x)\n",
        "    return x_exp / np.sum(x_exp, axis=1, keepdims=True)"
      ],
      "execution_count": 4,
      "outputs": []
    },
    {
      "cell_type": "markdown",
      "metadata": {
        "id": "52fR-55x4Krx"
      },
      "source": [
        "### 2. データセットの設定と重みの定義"
      ]
    },
    {
      "cell_type": "code",
      "metadata": {
        "id": "UFxomfOd_gzI"
      },
      "source": [
        "(x_mnist_1, y_mnist_1), (x_mnist_2, y_mnist_2) = mnist.load_data()\n",
        "\n",
        "x_mnist = np.r_[x_mnist_1, x_mnist_2]\n",
        "y_mnist = np.r_[y_mnist_1, y_mnist_2]\n",
        "\n",
        "x_mnist = x_mnist.astype('float32') / 255.\n",
        "y_mnist = np.eye(N=10)[y_mnist.astype('int32').flatten()]\n",
        "\n",
        "x_mnist=x_mnist.reshape(x_mnist.shape[0],-1)\n",
        "\n",
        "x_train_mnist, x_test_mnist, y_train_mnist, y_test_mnist = train_test_split(x_mnist, y_mnist, test_size=10000)\n",
        "x_train_mnist, x_valid_mnist, y_train_mnist, y_valid_mnist = train_test_split(x_train_mnist, y_train_mnist, test_size=10000)"
      ],
      "execution_count": 5,
      "outputs": []
    },
    {
      "cell_type": "code",
      "metadata": {
        "id": "uPX8RF6H4Kr2"
      },
      "source": [
        "# 重み (入力の次元数: 784, 出力の次元数: 10)\n",
        "# 初期値の理論は今回は無し\n",
        "W_mnist = np.random.uniform(low=-0.08, high=0.08, size=(784, 10)).astype('float32')\n",
        "b_mnist = np.zeros(shape=(10,)).astype('float32')"
      ],
      "execution_count": 6,
      "outputs": []
    },
    {
      "cell_type": "markdown",
      "metadata": {
        "id": "80EOFI-n4Kr6"
      },
      "source": [
        "### 3. train関数とvalid関数"
      ]
    },
    {
      "cell_type": "markdown",
      "metadata": {
        "id": "qVyNaUd-4Kr8"
      },
      "source": [
        "#### 3.1. 目的関数（多クラス交差エントロピー誤差関数）\n",
        "\n",
        "$$ E ({\\bf x}, {\\bf y}; {\\bf W}, {\\bf b} ) =  -\\frac{1}{N}\\sum^N_{i=1} \\sum^K_{k=1} {\\bf y}_{i, k} \\log {\\bf \\hat{y}}_{i, k} ({\\bf x}_i; {\\bf W}, {\\bf b}) $$"
      ]
    },
    {
      "cell_type": "markdown",
      "metadata": {
        "id": "g6ZIHaLH4Kr9"
      },
      "source": [
        "#### 3.2. モデルの推論\n",
        "$$\n",
        "    {\\bf \\hat{y}}_i = \\mathrm{softmax}({\\bf W}{\\bf x}_i + {\\bf b})\n",
        "$$"
      ]
    },
    {
      "cell_type": "markdown",
      "metadata": {
        "id": "v65ew-Qs4Kr-"
      },
      "source": [
        "#### 3.3. モデルの学習\n",
        "\\begin{align*}\n",
        "    \\delta_i &= {\\bf \\hat{y}}_i - {\\bf y}_i \\\\\n",
        "    \\nabla_{\\bf W} E &= \\frac{1}{N}\\sum^N_{i=1}\\delta_i {\\bf x}^{\\mathrm{T}}_i \\\\\n",
        "    \\nabla_{\\bf b} E &= \\frac{1}{N}\\sum^N_{i=1}\\delta_i  \\\\\n",
        "    {\\bf W} &\\leftarrow {\\bf W} - \\epsilon \\nabla_{\\bf W} E \\\\\n",
        "    {\\bf b} &\\leftarrow {\\bf b} - \\epsilon \\nabla_{\\bf b} E \\\\\n",
        "\\end{align*}"
      ]
    },
    {
      "cell_type": "code",
      "metadata": {
        "id": "ems70ikO4KsA"
      },
      "source": [
        "def train_mnist(x, y, eps=1.0):\n",
        "    global W_mnist, b_mnist\n",
        "    \n",
        "    batch_size = x.shape[0]\n",
        "    \n",
        "    # 予測\n",
        "    y_hat = softmax(np.matmul(x, W_mnist) + b_mnist) # shape: (batch_size, 出力の次元数)\n",
        "    \n",
        "    # 目的関数の評価\n",
        "    cost = (- y * np_log(y_hat)).sum(axis=1).mean()\n",
        "    delta = y_hat - y\n",
        "    \n",
        "    # パラメータの更新\n",
        "    dW = np.matmul(x.T, delta) / batch_size\n",
        "    db = np.matmul(np.ones(shape=(batch_size,)), delta) / batch_size\n",
        "    W_mnist -= eps * dW\n",
        "    b_mnist -= eps * db\n",
        "\n",
        "    return cost\n",
        "\n",
        "def valid_mnist(x, y):\n",
        "    y_hat = softmax(np.matmul(x, W_mnist) + b_mnist)\n",
        "    cost = (- y * np_log(y_hat)).sum(axis=1).mean()\n",
        "    \n",
        "    return cost, y_hat"
      ],
      "execution_count": 7,
      "outputs": []
    },
    {
      "cell_type": "markdown",
      "metadata": {
        "id": "JBGInXhG4KsJ"
      },
      "source": [
        "### 4. 学習"
      ]
    },
    {
      "cell_type": "code",
      "metadata": {
        "id": "7NbmLU4A4KsN",
        "colab": {
          "base_uri": "https://localhost:8080/"
        },
        "outputId": "3f4eb56f-6737-493e-b8aa-549e07de088c"
      },
      "source": [
        "for epoch in range(100):\n",
        "    x_train_mnist, y_train_mnist = shuffle(x_train_mnist, y_train_mnist)\n",
        "    cost = train_mnist(x_train_mnist, y_train_mnist)\n",
        "    cost, y_pred = valid_mnist(x_valid_mnist, y_valid_mnist)\n",
        "    if epoch % 10 == 9 or epoch == 0:\n",
        "        print('EPOCH: {}, Valid Cost: {:.3f}, Valid Accuracy: {:.3f}'.format(\n",
        "            epoch + 1,\n",
        "            cost,\n",
        "            accuracy_score(y_valid_mnist.argmax(axis=1), y_pred.argmax(axis=1))\n",
        "        ))"
      ],
      "execution_count": 8,
      "outputs": [
        {
          "output_type": "stream",
          "text": [
            "EPOCH: 1, Valid Cost: 1.757, Valid Accuracy: 0.464\n",
            "EPOCH: 10, Valid Cost: 0.964, Valid Accuracy: 0.725\n",
            "EPOCH: 20, Valid Cost: 0.578, Valid Accuracy: 0.817\n",
            "EPOCH: 30, Valid Cost: 0.482, Valid Accuracy: 0.854\n",
            "EPOCH: 40, Valid Cost: 0.410, Valid Accuracy: 0.882\n",
            "EPOCH: 50, Valid Cost: 0.392, Valid Accuracy: 0.890\n",
            "EPOCH: 60, Valid Cost: 0.380, Valid Accuracy: 0.893\n",
            "EPOCH: 70, Valid Cost: 0.371, Valid Accuracy: 0.896\n",
            "EPOCH: 80, Valid Cost: 0.363, Valid Accuracy: 0.899\n",
            "EPOCH: 90, Valid Cost: 0.357, Valid Accuracy: 0.901\n",
            "EPOCH: 100, Valid Cost: 0.352, Valid Accuracy: 0.902\n"
          ],
          "name": "stdout"
        }
      ]
    },
    {
      "cell_type": "markdown",
      "metadata": {
        "id": "79N4OxAWHVvf"
      },
      "source": [
        "# テスト"
      ]
    },
    {
      "cell_type": "code",
      "metadata": {
        "id": "lz5Xt31pHgk0"
      },
      "source": [
        "%matplotlib inline\n",
        "import matplotlib.pyplot as plt"
      ],
      "execution_count": 9,
      "outputs": []
    },
    {
      "cell_type": "code",
      "metadata": {
        "id": "9kmshvVIIS5o"
      },
      "source": [
        "def check_mnist(i, pred):\n",
        "  plt.imshow(x_test_mnist[i].reshape(28,28), cmap = 'gray')\n",
        "  selected = pred[i]\n",
        "  true = y_test_mnist[i].argmax()\n",
        "  print(f\"{i}'s pred select{selected}, true is {true}\")\n",
        "  if selected == true:\n",
        "    print(\"match!\")\n",
        "  else:\n",
        "    print(\"not match!\")"
      ],
      "execution_count": 10,
      "outputs": []
    },
    {
      "cell_type": "code",
      "metadata": {
        "id": "CgHBtTpbI4Xa"
      },
      "source": [
        "_, pred = valid_mnist(x_test_mnist, y_test_mnist)"
      ],
      "execution_count": 11,
      "outputs": []
    },
    {
      "cell_type": "code",
      "metadata": {
        "id": "-bgufaYWJD-K"
      },
      "source": [
        "pred = pred.argmax(axis=1)"
      ],
      "execution_count": 12,
      "outputs": []
    },
    {
      "cell_type": "code",
      "metadata": {
        "colab": {
          "base_uri": "https://localhost:8080/",
          "height": 301
        },
        "id": "4gjavRO8JSPo",
        "outputId": "e71f2d13-1716-4aec-b29d-040cb56d12aa"
      },
      "source": [
        "check_mnist(4, pred)"
      ],
      "execution_count": 13,
      "outputs": [
        {
          "output_type": "stream",
          "text": [
            "4's pred select7, true is 7\n",
            "match!\n"
          ],
          "name": "stdout"
        },
        {
          "output_type": "display_data",
          "data": {
            "image/png": "[encoded data removed]",
            "text/plain": [
              "<Figure size 432x288 with 1 Axes>"
            ]
          },
          "metadata": {
            "tags": [],
            "needs_background": "light"
          }
        }
      ]
    },
    {
      "cell_type": "markdown",
      "metadata": {
        "id": "5lDnCm5GMy2c"
      },
      "source": [
        "5番目の画像のみ予測が合わなかった"
      ]
    },
    {
      "cell_type": "code",
      "metadata": {
        "colab": {
          "base_uri": "https://localhost:8080/",
          "height": 625
        },
        "id": "FiBlInpnKXMU",
        "outputId": "2d859970-d080-44af-aa1a-01423d28b925"
      },
      "source": [
        "for i in range(10):\n",
        "  check_mnist(i, pred)"
      ],
      "execution_count": 14,
      "outputs": [
        {
          "output_type": "stream",
          "text": [
            "0's pred select9, true is 9\n",
            "match!\n",
            "1's pred select1, true is 1\n",
            "match!\n",
            "2's pred select7, true is 7\n",
            "match!\n",
            "3's pred select7, true is 7\n",
            "match!\n",
            "4's pred select7, true is 7\n",
            "match!\n",
            "5's pred select5, true is 8\n",
            "not match!\n",
            "6's pred select6, true is 6\n",
            "match!\n",
            "7's pred select9, true is 9\n",
            "match!\n",
            "8's pred select8, true is 8\n",
            "match!\n",
            "9's pred select0, true is 0\n",
            "match!\n"
          ],
          "name": "stdout"
        },
        {
          "output_type": "display_data",
          "data": {
            "image/png": "[encoded data removed]",
            "text/plain": [
              "<Figure size 432x288 with 1 Axes>"
            ]
          },
          "metadata": {
            "tags": [],
            "needs_background": "light"
          }
        }
      ]
    },
    {
      "cell_type": "markdown",
      "metadata": {
        "id": "s8fBY6TYM3rM"
      },
      "source": [
        "5番目の画像は8,8番目の8は正しく予測出来ているが、8番目の8は8っぽくない。過学習の例と推測される"
      ]
    },
    {
      "cell_type": "code",
      "metadata": {
        "colab": {
          "base_uri": "https://localhost:8080/",
          "height": 301
        },
        "id": "nTw6i3y-LScB",
        "outputId": "7bff76a5-22e9-4c1b-9f0b-812e6d26d664"
      },
      "source": [
        "？？check_mnist(5, pred)"
      ],
      "execution_count": 15,
      "outputs": [
        {
          "output_type": "stream",
          "text": [
            "5's pred select5, true is 8\n",
            "not match!\n"
          ],
          "name": "stdout"
        },
        {
          "output_type": "display_data",
          "data": {
            "image/png": "[encoded data removed]",
            "text/plain": [
              "<Figure size 432x288 with 1 Axes>"
            ]
          },
          "metadata": {
            "tags": [],
            "needs_background": "light"
          }
        }
      ]
    },
    {
      "cell_type": "code",
      "metadata": {
        "colab": {
          "base_uri": "https://localhost:8080/",
          "height": 301
        },
        "id": "3wt_RKxrM90T",
        "outputId": "76c3e528-4e34-477c-a014-9bb131e55d10"
      },
      "source": [
        "check_mnist(8, pred)"
      ],
      "execution_count": 16,
      "outputs": [
        {
          "output_type": "stream",
          "text": [
            "8's pred select8, true is 8\n",
            "match!\n"
          ],
          "name": "stdout"
        },
        {
          "output_type": "display_data",
          "data": {
            "image/png": "[encoded data removed]",
            "text/plain": [
              "<Figure size 432x288 with 1 Axes>"
            ]
          },
          "metadata": {
            "tags": [],
            "needs_background": "light"
          }
        }
      ]
    },
    {
      "cell_type": "code",
      "metadata": {
        "id": "ZV6xISqoM_LL"
      },
      "source": [
        ""
      ],
      "execution_count": null,
      "outputs": []
    }
  ]
}